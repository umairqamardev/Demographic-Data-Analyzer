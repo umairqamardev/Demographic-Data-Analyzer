{
  "metadata": {
    "kernelspec": {
      "name": "python",
      "display_name": "Python (Pyodide)",
      "language": "python"
    },
    "language_info": {
      "codemirror_mode": {
        "name": "python",
        "version": 3
      },
      "file_extension": ".py",
      "mimetype": "text/x-python",
      "name": "python",
      "nbconvert_exporter": "python",
      "pygments_lexer": "ipython3",
      "version": "3.8"
    }
  },
  "nbformat_minor": 5,
  "nbformat": 4,
  "cells": [
    {
      "id": "89b51dfe-6e8c-4b12-8e04-b3659012c630",
      "cell_type": "code",
      "source": "import pandas as pd\n",
      "metadata": {
        "trusted": true
      },
      "outputs": [],
      "execution_count": 1
    },
    {
      "id": "b73fe1f0-c545-419a-9251-4b41c0a50693",
      "cell_type": "code",
      "source": "def load_data():\n    df = pd.read_csv('adult.data.csv')  # Make sure the file is in the correct path\n    return df\n\n# To load the data, call the function:\ndf = load_data()",
      "metadata": {
        "trusted": true
      },
      "outputs": [],
      "execution_count": 5
    },
    {
      "id": "83f4965b-9c87-4433-ba37-b87fe4a08e52",
      "cell_type": "code",
      "source": "def race_count(df):\n    return df['race'].value_counts()\n\n# Test the function:\nrace_count(df)\n",
      "metadata": {
        "trusted": true
      },
      "outputs": [
        {
          "execution_count": 6,
          "output_type": "execute_result",
          "data": {
            "text/plain": "race\nWhite                 27816\nBlack                  3124\nAsian-Pac-Islander     1039\nAmer-Indian-Eskimo      311\nOther                   271\nName: count, dtype: int64"
          },
          "metadata": {}
        }
      ],
      "execution_count": 6
    },
    {
      "id": "c27170b0-a7f3-47cc-b476-d8970d11f198",
      "cell_type": "code",
      "source": "def average_age_men(df):\n    men = df[df['sex'] == 'Male']\n    return men['age'].mean()\n\n# Test the function:\naverage_age_men(df)\n",
      "metadata": {
        "trusted": true
      },
      "outputs": [
        {
          "execution_count": 7,
          "output_type": "execute_result",
          "data": {
            "text/plain": "np.float64(39.43354749885268)"
          },
          "metadata": {}
        }
      ],
      "execution_count": 7
    },
    {
      "id": "e3aa79f9-e84e-40db-9982-934e90ffc440",
      "cell_type": "code",
      "source": "def percentage_bachelors(df):\n    bachelors = df[df['education'] == 'Bachelors']\n    return (bachelors.shape[0] / df.shape[0]) * 100\n\n# Test the function:\npercentage_bachelors(df)\n",
      "metadata": {
        "trusted": true
      },
      "outputs": [
        {
          "execution_count": 8,
          "output_type": "execute_result",
          "data": {
            "text/plain": "16.44605509658794"
          },
          "metadata": {}
        }
      ],
      "execution_count": 8
    },
    {
      "id": "f51963d5-69c7-4c56-88db-0692c7940ad0",
      "cell_type": "code",
      "source": "def percentage_with_advanced_education(df):\n    advanced_education = df[df['education'].isin(['Bachelors', 'Masters', 'Doctorate'])]\n    advanced_education_high_income = advanced_education[advanced_education['salary'] == '>50K']\n    return (advanced_education_high_income.shape[0] / advanced_education.shape[0]) * 100\n\n# Test the function:\npercentage_with_advanced_education(df)\n",
      "metadata": {
        "trusted": true
      },
      "outputs": [
        {
          "execution_count": 9,
          "output_type": "execute_result",
          "data": {
            "text/plain": "46.535843011613935"
          },
          "metadata": {}
        }
      ],
      "execution_count": 9
    },
    {
      "id": "db6cd673-15e9-4815-b1f9-64eba462829c",
      "cell_type": "code",
      "source": "def percentage_without_advanced_education(df):\n    no_advanced_education = df[~df['education'].isin(['Bachelors', 'Masters', 'Doctorate'])]\n    no_advanced_education_high_income = no_advanced_education[no_advanced_education['salary'] == '>50K']\n    return (no_advanced_education_high_income.shape[0] / no_advanced_education.shape[0]) * 100\n\n# Test the function:\npercentage_without_advanced_education(df)\n",
      "metadata": {
        "trusted": true
      },
      "outputs": [
        {
          "execution_count": 10,
          "output_type": "execute_result",
          "data": {
            "text/plain": "17.3713601914639"
          },
          "metadata": {}
        }
      ],
      "execution_count": 10
    },
    {
      "id": "627b464f-9db0-4ca3-b882-662caed6bafd",
      "cell_type": "code",
      "source": "def min_hours_per_week(df):\n    return df['hours-per-week'].min()\n\n# Test the function:\nmin_hours_per_week(df)\n",
      "metadata": {
        "trusted": true
      },
      "outputs": [
        {
          "execution_count": 11,
          "output_type": "execute_result",
          "data": {
            "text/plain": "np.int64(1)"
          },
          "metadata": {}
        }
      ],
      "execution_count": 11
    },
    {
      "id": "508af661-4583-4610-8b9f-a592549784f7",
      "cell_type": "code",
      "source": "def percentage_min_hours_working(df):\n    min_hours = df['hours-per-week'].min()\n    min_hours_working = df[df['hours-per-week'] == min_hours]\n    min_hours_working_high_income = min_hours_working[min_hours_working['salary'] == '>50K']\n    return (min_hours_working_high_income.shape[0] / min_hours_working.shape[0]) * 100\n\n# Test the function:\npercentage_min_hours_working(df)\n",
      "metadata": {
        "trusted": true
      },
      "outputs": [
        {
          "execution_count": 12,
          "output_type": "execute_result",
          "data": {
            "text/plain": "10.0"
          },
          "metadata": {}
        }
      ],
      "execution_count": 12
    },
    {
      "id": "bbc5669b-960e-4df4-87e0-687cd34b972c",
      "cell_type": "code",
      "source": "def highest_earning_country(df):\n    earning_by_country = df[df['salary'] == '>50K'].groupby('native-country').size() / df.groupby('native-country').size() * 100\n    highest_country = earning_by_country.idxmax()\n    highest_percentage = earning_by_country.max()\n    return highest_country, highest_percentage\n\n# Test the function:\nhighest_earning_country(df)\n",
      "metadata": {
        "trusted": true
      },
      "outputs": [
        {
          "execution_count": 13,
          "output_type": "execute_result",
          "data": {
            "text/plain": "('Iran', np.float64(41.86046511627907))"
          },
          "metadata": {}
        }
      ],
      "execution_count": 13
    },
    {
      "id": "a7ccae6e-757b-4b8d-aa4f-d0ba8fde59d9",
      "cell_type": "code",
      "source": "def top_in_occupation(df):\n    india_high_income = df[(df['native-country'] == 'India') & (df['salary'] == '>50K')]\n    return india_high_income['occupation'].mode()[0]\n\n# Test the function:\ntop_in_occupation(df)\n",
      "metadata": {
        "trusted": true
      },
      "outputs": [
        {
          "execution_count": 14,
          "output_type": "execute_result",
          "data": {
            "text/plain": "'Prof-specialty'"
          },
          "metadata": {}
        }
      ],
      "execution_count": 14
    },
    {
      "id": "cd2eb4b8-2d1b-485d-a9c4-14164206794e",
      "cell_type": "code",
      "source": "",
      "metadata": {
        "trusted": true
      },
      "outputs": [],
      "execution_count": null
    }
  ]
}